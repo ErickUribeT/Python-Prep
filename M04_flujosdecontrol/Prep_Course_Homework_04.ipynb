{
 "cells": [
  {
   "attachments": {},
   "cell_type": "markdown",
   "metadata": {},
   "source": [
    "## Flujos de Control"
   ]
  },
  {
   "attachments": {},
   "cell_type": "markdown",
   "metadata": {},
   "source": [
    "1) Crear una variable que contenga un elemento del conjunto de números enteros y luego imprimir por pantalla si es mayor o menor a cero"
   ]
  },
  {
   "cell_type": "code",
   "execution_count": 9,
   "metadata": {},
   "outputs": [
    {
     "name": "stdout",
     "output_type": "stream",
     "text": [
      "El Numero 4 es mayor que 0\n"
     ]
    }
   ],
   "source": [
    "Num=4\n",
    "if type(Num)!=int:\n",
    "    print(\"Este número no es un Entero\")\n",
    "elif Num>0:\n",
    "    print(\"El Numero\", Num, \"es mayor que 0\")\n",
    "elif Num==0:\n",
    "    print(\"El Numero\", Num, \"es igual\" )\n",
    "else:\n",
    "    print(\"El Numero\", Num, \"es menor que 0\" )"
   ]
  },
  {
   "attachments": {},
   "cell_type": "markdown",
   "metadata": {},
   "source": [
    "2) Crear dos variables y un condicional que informe si son del mismo tipo de dato"
   ]
  },
  {
   "cell_type": "code",
   "execution_count": null,
   "metadata": {},
   "outputs": [],
   "source": [
    "var1=5\n",
    "var2=\"casa\"\n",
    "if type(var1)==type(var2):\n",
    "    print(\"las variables son del mismo tipo de dato\")\n",
    "else:\n",
    "    print(\"las variables no son del mismo tipo de dato\")"
   ]
  },
  {
   "attachments": {},
   "cell_type": "markdown",
   "metadata": {},
   "source": [
    "3) Para los valores enteros del 1 al 20, imprimir por pantalla si es par o impar"
   ]
  },
  {
   "cell_type": "code",
   "execution_count": null,
   "metadata": {},
   "outputs": [],
   "source": [
    "for i in range(1,21):\n",
    "    if i%2==0:\n",
    "        print(i, \"Es par\")\n",
    "    else:\n",
    "        print(i, \"Es impar\")   "
   ]
  },
  {
   "attachments": {},
   "cell_type": "markdown",
   "metadata": {},
   "source": [
    "4) En un ciclo for mostrar para los valores entre 0 y 5 el resultado de elevarlo a la potencia igual a 3"
   ]
  },
  {
   "cell_type": "code",
   "execution_count": null,
   "metadata": {},
   "outputs": [],
   "source": [
    "for i in range(0,6):\n",
    "   print(i, \"Elevado a la 3 es igual a\", i**3)\n"
   ]
  },
  {
   "attachments": {},
   "cell_type": "markdown",
   "metadata": {},
   "source": [
    "5) Crear una variable que contenga un número entero y realizar un ciclo for la misma cantidad de ciclos"
   ]
  },
  {
   "cell_type": "code",
   "execution_count": 33,
   "metadata": {},
   "outputs": [
    {
     "name": "stdout",
     "output_type": "stream",
     "text": [
      "0\n",
      "1\n",
      "2\n",
      "3\n",
      "4\n",
      "5\n",
      "6\n",
      "7\n"
     ]
    }
   ],
   "source": [
    "num=8\n",
    "for i in range(0,num):\n",
    "    print(i)"
   ]
  },
  {
   "attachments": {},
   "cell_type": "markdown",
   "metadata": {},
   "source": [
    "6) Utilizar un ciclo while para realizar el factorial de un número guardado en una variable, sólo si la variable contiene un número entero mayor a 0"
   ]
  },
  {
   "cell_type": "code",
   "execution_count": 6,
   "metadata": {},
   "outputs": [
    {
     "name": "stdout",
     "output_type": "stream",
     "text": [
      "El Factorial es 24\n"
     ]
    }
   ],
   "source": [
    "x=4\n",
    "if type(x) == int:\n",
    "   if x>0:\n",
    "        factorial=x\n",
    "        while x>1:\n",
    "            x-=1\n",
    "            factorial=factorial*x\n",
    "        print(\"El Factorial es\", factorial)\n",
    "   else:\n",
    "        print(\"El número es menor que 0\")\n",
    "else:\n",
    "    print(\"El número no es un entero\")"
   ]
  },
  {
   "attachments": {},
   "cell_type": "markdown",
   "metadata": {},
   "source": [
    "7) Crear un ciclo for dentro de un ciclo while"
   ]
  },
  {
   "cell_type": "code",
   "execution_count": 4,
   "metadata": {},
   "outputs": [
    {
     "name": "stdout",
     "output_type": "stream",
     "text": [
      "Número while 4\n",
      "Número for 1\n",
      "Número while 4\n",
      "Número for 2\n",
      "Número while 4\n",
      "Número for 3\n",
      "Número while 3\n",
      "Número for 1\n",
      "Número while 3\n",
      "Número for 2\n",
      "Número while 2\n",
      "Número for 1\n"
     ]
    }
   ],
   "source": [
    "x=5\n",
    "while x>0:\n",
    "    x-=1\n",
    "    for i in range (1,x):\n",
    "        print(\"Número while\", x)\n",
    "        print(\"Número for\", i)        "
   ]
  },
  {
   "attachments": {},
   "cell_type": "markdown",
   "metadata": {},
   "source": [
    "8) Crear un ciclo while dentro de un ciclo for"
   ]
  },
  {
   "cell_type": "code",
   "execution_count": 4,
   "metadata": {},
   "outputs": [],
   "source": [
    "num=8\n",
    "for i in range(1,num):\n",
    "    while num<8:\n",
    "        \n",
    "        print(num)\n",
    "        "
   ]
  },
  {
   "attachments": {},
   "cell_type": "markdown",
   "metadata": {},
   "source": [
    "9) Imprimir los números primos existentes entre 0 y 30"
   ]
  },
  {
   "cell_type": "code",
   "execution_count": 4,
   "metadata": {},
   "outputs": [
    {
     "name": "stdout",
     "output_type": "stream",
     "text": [
      "El Número 2 es primo\n",
      "El Número 3 es primo\n",
      "El Número 5 es primo\n",
      "El Número 7 es primo\n"
     ]
    }
   ],
   "source": [
    "for i in range(0,8):  #i es el dividendo\n",
    "    if i > 1:\n",
    "        cont=0\n",
    "        divisor=2\n",
    "        while divisor<i:\n",
    "            residuo=i%divisor\n",
    "            if residuo==0:\n",
    "                cont+=1\n",
    "            divisor+=1\n",
    "        if cont==0:\n",
    "            print(\"El Número\",i, \"es primo\")"
   ]
  },
  {
   "attachments": {},
   "cell_type": "markdown",
   "metadata": {},
   "source": [
    "10) ¿Se puede mejorar el proceso del punto 9? Utilizar las sentencias break y/ó continue para tal fin"
   ]
  },
  {
   "cell_type": "code",
   "execution_count": 3,
   "metadata": {},
   "outputs": [
    {
     "name": "stdout",
     "output_type": "stream",
     "text": [
      "El Número 2 es primo\n",
      "El Número 3 es primo\n",
      "El Número 5 es primo\n",
      "El Número 7 es primo\n",
      "El Número 9 es primo\n",
      "El Número 11 es primo\n",
      "El Número 13 es primo\n",
      "El Número 15 es primo\n",
      "El Número 17 es primo\n",
      "El Número 19 es primo\n",
      "El Número 21 es primo\n",
      "El Número 23 es primo\n",
      "El Número 25 es primo\n",
      "El Número 27 es primo\n",
      "El Número 29 es primo\n"
     ]
    }
   ],
   "source": [
    "for i in range(0,31):  #i es el dividendo\n",
    "    if i > 1:\n",
    "        cont=0\n",
    "        divisor=2\n",
    "        while divisor<i:\n",
    "            residuo=i%divisor\n",
    "            if residuo==0:\n",
    "                cont+=1\n",
    "            divisor+=1\n",
    "            break\n",
    "        if cont==0:\n",
    "            print(\"El Número\",i, \"es primo\")"
   ]
  },
  {
   "attachments": {},
   "cell_type": "markdown",
   "metadata": {},
   "source": [
    "11) En los puntos 9 y 10, se diseño un código que encuentra números primos y además se lo optimizó. ¿Es posible saber en qué medida se optimizó?"
   ]
  },
  {
   "cell_type": "code",
   "execution_count": 2,
   "metadata": {},
   "outputs": [
    {
     "name": "stdout",
     "output_type": "stream",
     "text": [
      "El Número 2 es primo\n",
      "El Número 3 es primo\n",
      "El Número 5 es primo\n",
      "El Número 7 es primo\n",
      "El Número 9 es primo\n",
      "El Número 11 es primo\n",
      "El Número 13 es primo\n",
      "El Número 15 es primo\n",
      "El Número 17 es primo\n",
      "El Número 19 es primo\n",
      "El Número 21 es primo\n",
      "El Número 23 es primo\n",
      "El Número 25 es primo\n",
      "El Número 27 es primo\n",
      "El Número 29 es primo\n",
      "Cantidad de veces que se uso el break: 28\n"
     ]
    }
   ],
   "source": [
    "cantidad_breaks=0\n",
    "for i in range(0,31):  #i es el dividendo\n",
    "    if i > 1:\n",
    "        cont=0\n",
    "        divisor=2\n",
    "        while divisor<i:\n",
    "            cantidad_breaks+=1\n",
    "            residuo=i%divisor\n",
    "            if residuo==0:\n",
    "                cont+=1\n",
    "            divisor+=1\n",
    "            break\n",
    "        if cont==0:\n",
    "            print(\"El Número\",i, \"es primo\")\n",
    "print(\"Cantidad de veces que se uso el break:\",cantidad_breaks)"
   ]
  },
  {
   "cell_type": "code",
   "execution_count": 37,
   "metadata": {},
   "outputs": [
    {
     "name": "stdout",
     "output_type": "stream",
     "text": [
      "El Número 2 es primo\n",
      "El Número 3 es primo\n",
      "El Número 5 es primo\n",
      "El Número 7 es primo\n",
      "El Número 11 es primo\n",
      "El Número 13 es primo\n",
      "El Número 17 es primo\n",
      "El Número 19 es primo\n",
      "El Número 23 es primo\n",
      "El Número 29 es primo\n",
      "Cantidad de veces sin el uso el break: 406\n",
      "Cantidad de veces que se uso el break: 28\n",
      "La optimización de ciclos fue de un 0.06896551724137931 %\n"
     ]
    }
   ],
   "source": [
    "cantidad_sinbreaks=0\n",
    "for i in range(0,31):  #i es el dividendo\n",
    "    if i > 1:\n",
    "        cont=0\n",
    "        divisor=2\n",
    "        while divisor<i:\n",
    "            cantidad_sinbreaks+=1\n",
    "            residuo=i%divisor\n",
    "            if residuo==0:\n",
    "                cont+=1\n",
    "            divisor+=1\n",
    "            #break\n",
    "        if cont==0:\n",
    "             print(\"El Número\",i, \"es primo\")\n",
    "print(\"Cantidad de veces sin el uso el break:\",cantidad_sinbreaks)\n",
    "print(\"Cantidad de veces que se uso el break:\",cantidad_breaks)\n",
    "print(\"La optimización de ciclos fue de un\", cantidad_breaks/cantidad_sinbreaks,\"%\")"
   ]
  },
  {
   "attachments": {},
   "cell_type": "markdown",
   "metadata": {},
   "source": [
    "12) Aplicando continue, armar un ciclo while que solo imprima los valores divisibles por 12, dentro del rango de números de 100 a 300"
   ]
  },
  {
   "cell_type": "code",
   "execution_count": 3,
   "metadata": {},
   "outputs": [
    {
     "name": "stdout",
     "output_type": "stream",
     "text": [
      "El Número 2 es primo\n",
      "El Número 3 es primo\n",
      "El Número 5 es primo\n",
      "El Número 7 es primo\n",
      "El Número 11 es primo\n",
      "El Número 13 es primo\n",
      "El Número 17 es primo\n",
      "El Número 19 es primo\n",
      "El Número 23 es primo\n",
      "El Número 29 es primo\n",
      "El Número 31 es primo\n",
      "El Número 37 es primo\n",
      "El Número 41 es primo\n",
      "El Número 43 es primo\n",
      "El Número 47 es primo\n",
      "El Número 53 es primo\n",
      "El Número 59 es primo\n",
      "El Número 61 es primo\n",
      "El Número 67 es primo\n",
      "El Número 71 es primo\n",
      "El Número 73 es primo\n",
      "El Número 79 es primo\n",
      "El Número 83 es primo\n",
      "El Número 89 es primo\n",
      "El Número 97 es primo\n",
      "Cantidad de veces sin el uso el break: 4851\n",
      "Cantidad de veces que se uso el break: 28\n",
      "La optimización de ciclos fue de un 0.005772005772005772 %\n"
     ]
    }
   ],
   "source": [
    "cantidad_sinbreaks=0\n",
    "for i in range(0,101):  #i es el dividendo\n",
    "    if i > 1:\n",
    "        cont=0\n",
    "        divisor=2\n",
    "        while divisor<i:\n",
    "            cantidad_sinbreaks+=1\n",
    "            residuo=i%divisor\n",
    "            if residuo==0:\n",
    "                cont+=1\n",
    "            divisor+=1\n",
    "            #break\n",
    "        if cont==0:\n",
    "             print(\"El Número\",i, \"es primo\")\n",
    "print(\"Cantidad de veces sin el uso el break:\",cantidad_sinbreaks)\n",
    "print(\"Cantidad de veces que se uso el break:\",cantidad_breaks)\n",
    "print(\"La optimización de ciclos fue de un\", cantidad_breaks/cantidad_sinbreaks,\"%\") #La optimización disminuye"
   ]
  },
  {
   "attachments": {},
   "cell_type": "markdown",
   "metadata": {},
   "source": [
    "13) Utilizar la función **input()** que permite hacer ingresos por teclado, para encontrar números primos y dar la opción al usario de buscar el siguiente"
   ]
  },
  {
   "cell_type": "code",
   "execution_count": 11,
   "metadata": {},
   "outputs": [
    {
     "name": "stdout",
     "output_type": "stream",
     "text": [
      "El Número 108 es divisible por 12\n",
      "El Número 120 es divisible por 12\n",
      "El Número 132 es divisible por 12\n",
      "El Número 144 es divisible por 12\n",
      "El Número 156 es divisible por 12\n",
      "El Número 168 es divisible por 12\n",
      "El Número 180 es divisible por 12\n",
      "El Número 192 es divisible por 12\n",
      "El Número 204 es divisible por 12\n",
      "El Número 216 es divisible por 12\n",
      "El Número 228 es divisible por 12\n",
      "El Número 240 es divisible por 12\n",
      "El Número 252 es divisible por 12\n",
      "El Número 264 es divisible por 12\n",
      "El Número 276 es divisible por 12\n",
      "El Número 288 es divisible por 12\n"
     ]
    }
   ],
   "source": [
    "num = 300\n",
    "for res in  range(100,num):\n",
    "    if (res % 3 ==0 and res %4 ==0):\n",
    "        print(\"El Número\",res, \"es divisible por 12\")\n",
    "    else:\n",
    "        continue"
   ]
  },
  {
   "attachments": {},
   "cell_type": "markdown",
   "metadata": {},
   "source": [
<<<<<<< HEAD
    "14) Utilizar la función **input()** que permite hacer ingresos por teclado, para encontrar números primos y dar la opción al usario de buscar el siguiente"
   ]
  },
  {
   "cell_type": "code",
   "execution_count": 2,
   "metadata": {},
   "outputs": [
    {
     "name": "stdout",
     "output_type": "stream",
     "text": [
      "El número debe ser mayor que 1\n",
      "El número debe ser mayor que 1\n",
      "El  12243 no es un número primo\n",
      "Se finaliza la búsqueda de números primos\n"
     ]
    }
   ],
   "source": [
    "seguir=\"s\"\n",
    "while seguir==\"s\":\n",
    "    seguir=str(input(\"Desea encontrar un número primo?(s/n)\"))\n",
    "    if seguir==\"n\":\n",
    "        print(\"Se finaliza la búsqueda de números primos\")\n",
    "        break\n",
    "    else:\n",
    "        num=int(input(\"Ingrese un número para saber si es primo: \"))\n",
    "        if num > 1:\n",
    "            contador=0\n",
    "            for i in range(2,num):\n",
    "                residuo=num%i\n",
    "                if residuo==0:\n",
    "                    contador+=1\n",
    "            if contador==0:\n",
    "                print(\"El numero \",num,\"es primo\")\n",
    "            else:\n",
    "                print(\"El \",num,\"no es un número primo\")\n",
    "        else:\n",
    "            print(\"El número debe ser mayor que 1\")"
   ]
  },
  {
   "attachments": {},
   "cell_type": "markdown",
   "metadata": {},
   "source": [
    "15) Crear un ciclo while que encuentre dentro del rango de 100 a 300 el primer número divisible por 3 y además múltiplo de 6"
=======
    "14) Crear un ciclo while que encuentre dentro del rango de 100 a 300 el primer número divisible por 3 y además múltiplo de 6"
>>>>>>> de9f7e7300b0b45fbd909a36983fa6064730c34d
   ]
  },
  {
   "cell_type": "code",
   "execution_count": 13,
   "metadata": {},
   "outputs": [
    {
     "name": "stdout",
     "output_type": "stream",
     "text": [
      "El número es:  102\n"
     ]
    }
   ],
   "source": [
    "num = 301\n",
    "for res in range(100,num):\n",
    "    if (res%6 == 0):\n",
    "        print('El número es: ', res)\n",
    "        break"
   ]
  }
 ],
 "metadata": {
  "interpreter": {
   "hash": "c85384e4cb51c8b72350f3a8712cc8351fdc3955e32a27f9b60c6242ab125f01"
  },
  "kernelspec": {
   "display_name": "Python 3 (ipykernel)",
   "language": "python",
   "name": "python3"
  },
  "language_info": {
   "codemirror_mode": {
    "name": "ipython",
    "version": 3
   },
   "file_extension": ".py",
   "mimetype": "text/x-python",
   "name": "python",
   "nbconvert_exporter": "python",
   "pygments_lexer": "ipython3",
   "version": "3.11.4"
  }
 },
 "nbformat": 4,
 "nbformat_minor": 4
}
