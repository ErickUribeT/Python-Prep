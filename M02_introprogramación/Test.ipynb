{
 "cells": [
  {
   "cell_type": "code",
   "execution_count": 19,
   "metadata": {},
   "outputs": [
    {
     "name": "stdout",
     "output_type": "stream",
     "text": [
      "Hello Madafackas jiji xD\n",
      "0\n",
      "1\n",
      "2\n",
      "3\n",
      "4\n",
      "5\n",
      "6\n",
      "7\n",
      "8\n",
      "9\n",
      "10\n",
      "11\n",
      "12\n",
      "13\n",
      "14\n",
      "15\n",
      "16\n",
      "17\n",
      "18\n",
      "19\n",
      "20\n"
     ]
    }
   ],
   "source": [
    "print(\"Hello Madafackas jiji xD\")\n",
    "a = 0\n",
    "while a <= 20:\n",
    "    print(a)\n",
    "    a +=1"
   ]
  },
  {
   "cell_type": "code",
   "execution_count": 3,
   "metadata": {},
   "outputs": [
    {
     "name": "stdout",
     "output_type": "stream",
     "text": [
      "8 Es divisible entre 4 ? True\n"
     ]
    }
   ],
   "source": [
    "num1=int(input(\"Ingrese número 1: \"))\n",
    "num2=int(input(\"Ingrese número 2: \"))\n",
    "residuo=num1%num2\n",
    "condicion=residuo==0\n",
    "print(num1, \"Es divisible entre\", num2,\"?\", condicion)"
   ]
  },
  {
   "cell_type": "code",
   "execution_count": 2,
   "metadata": {},
   "outputs": [
    {
     "name": "stdout",
     "output_type": "stream",
     "text": [
      "['rojo,blanco', 'blanco']\n"
     ]
    }
   ],
   "source": [
    "mi_lista=[\"rojo,blanco\"]\n",
    "mi_lista.append(\"blanco\")\n",
    "print(mi_lista)"
   ]
  },
  {
   "cell_type": "code",
   "execution_count": 2,
   "metadata": {},
   "outputs": [
    {
     "name": "stdout",
     "output_type": "stream",
     "text": [
      "(13.66+10j)\n"
     ]
    }
   ],
   "source": [
    "num1=5+5j\n",
    "num2=num1+3.66\n",
    "print(num1+num2)"
   ]
  },
  {
   "cell_type": "code",
   "execution_count": 9,
   "metadata": {},
   "outputs": [],
   "source": [
    "num=\"8\"\n",
    "type(num)\n",
    "o=int(num)\n",
    "#type(o)"
   ]
  },
  {
   "cell_type": "code",
   "execution_count": 11,
   "metadata": {},
   "outputs": [
    {
     "name": "stdout",
     "output_type": "stream",
     "text": [
      "2\n",
      "3\n",
      "5\n",
      "7\n",
      "11\n",
      "13\n",
      "17\n",
      "19\n",
      "23\n",
      "29\n"
     ]
    }
   ],
   "source": [
    "tope_rango=30\n",
    "primo = True\n",
    "for i in range (0,tope_rango):\n",
    "    if i>1:\n",
    "        for div in range(2, i):\n",
    "            if (i % div == 0):\n",
    "                primo = False\n",
    "        if (primo):\n",
    "            print(i)\n",
    "        else:\n",
    "            primo = True\n"
   ]
  },
  {
   "cell_type": "code",
   "execution_count": 16,
   "metadata": {},
   "outputs": [
    {
     "name": "stdout",
     "output_type": "stream",
     "text": [
      "2\n",
      "3\n",
      "5\n",
      "7\n",
      "11\n",
      "13\n",
      "17\n",
      "19\n",
      "23\n",
      "29\n"
     ]
    }
   ],
   "source": [
    "tope_rango=30\n",
    "n = 0\n",
    "primo = True\n",
    "while(n<2):\n",
    "    n+=1\n",
    "while (n < tope_rango):\n",
    "    for div in range(2, n):\n",
    "        if (n % div == 0):\n",
    "            primo = False\n",
    "    if (primo):\n",
    "        print(n)\n",
    "    else:\n",
    "        primo = True\n",
    "    n += 1"
   ]
  },
  {
   "cell_type": "code",
   "execution_count": 5,
   "metadata": {},
   "outputs": [
    {
     "name": "stdout",
     "output_type": "stream",
     "text": [
      "['Rojo', 'Azul', 'Amarillo', 'Naranja', 'Violeta', 'Verde']\n",
      "Azul\n",
      "['Amarillo', 'Naranja', 'Violeta']\n",
      "['Amarillo', 'Naranja', 'Violeta', 'Verde']\n",
      "['negro', 'Rojo', 'Azul', 'Amarillo', 'Naranja', 'Violeta', 'Verde', 'gris']\n",
      "['negro', 'Rojo', 'Azul', 'Amarillo', 'Naranja', 'Violeta', 'Verde', 'gris', 'Marrón', 'Fucsia', 'rosado']\n",
      "9\n",
      "['Rojo', 'Azul', 'Amarillo', 'Naranja', 'Violeta', 'Verde', 'gris', 'Marrón', 'Fucsia', 'rosado']\n"
     ]
    },
    {
     "data": {
      "text/plain": [
       "True"
      ]
     },
     "execution_count": 5,
     "metadata": {},
     "output_type": "execute_result"
    }
   ],
   "source": [
    "mi_lista = ['Rojo','Azul','Amarillo','Naranja','Violeta','Verde']\n",
    "print(mi_lista)\n",
    "type(mi_lista)\n",
    "print(mi_lista[1])\n",
    "rebanada=mi_lista[2:5]\n",
    "print(rebanada)\n",
    "print(mi_lista[2:])\n",
    "mi_lista.append(\"gris\")\n",
    "mi_lista.insert(0,\"negro\")\n",
    "print(mi_lista)\n",
    "mi_lista.extend([\"Marrón\",\"Fucsia\",\"rosado\"])\n",
    "print(mi_lista)\n",
    "print(mi_lista.index(\"Fucsia\"))\n",
    "mi_lista.remove(\"negro\")\n",
    "print(mi_lista)\n",
    "\"Amarillo\" in mi_lista\n"
   ]
  },
  {
   "cell_type": "code",
   "execution_count": 6,
   "metadata": {},
   "outputs": [
    {
     "name": "stdout",
     "output_type": "stream",
     "text": [
      "rosado\n",
      "['Rojo', 'Azul', 'Amarillo', 'Naranja', 'Violeta', 'Verde', 'gris', 'Marrón', 'Fucsia']\n",
      "['Rojo', 'Azul', 'Amarillo', 'Naranja', 'Violeta', 'Verde', 'gris', 'Marrón', 'Fucsia', 'Rojo', 'Azul', 'Amarillo', 'Naranja', 'Violeta', 'Verde', 'gris', 'Marrón', 'Fucsia', 'Rojo', 'Azul', 'Amarillo', 'Naranja', 'Violeta', 'Verde', 'gris', 'Marrón', 'Fucsia']\n",
      "[1, 2, 3, 4, 6, 8]\n",
      "['Amarillo', 'Azul', 'Fucsia', 'Marrón', 'Naranja', 'Rojo', 'Verde', 'Violeta', 'gris']\n",
      "[8, 6, 4, 3, 2, 1]\n"
     ]
    }
   ],
   "source": [
    "ultimo=mi_lista.pop()\n",
    "print(ultimo)\n",
    "print(mi_lista)\n",
    "print(mi_lista*3)\n",
    "lista= [1,4,3,6,8,2]\n",
    "lista.sort()\n",
    "print(lista)\n",
    "mi_lista.sort()\n",
    "print(mi_lista)\n",
    "lista.sort(reverse=True)\n",
    "print(lista)"
   ]
  },
  {
   "cell_type": "code",
   "execution_count": 55,
   "metadata": {},
   "outputs": [
    {
     "name": "stdout",
     "output_type": "stream",
     "text": [
      "('lunes', 'martes', 'miércoles', 'jueves', 'viernes', 'sábado', 'domingo')\n",
      "jueves\n",
      "(1, 2, 3, 4)\n",
      "3\n"
     ]
    },
    {
     "data": {
      "text/plain": [
       "1"
      ]
     },
     "execution_count": 55,
     "metadata": {},
     "output_type": "execute_result"
    }
   ],
   "source": [
    "tupla_dias= ('lunes', 'martes', 'miércoles','jueves','viernes','sábado', 'domingo')\n",
    "print(tupla_dias)\n",
    "print(tupla_dias[3])\n",
    "\n",
    "mi_tupla= (1,2,3,4)\n",
    "print(mi_tupla)\n",
    "print(mi_tupla[2])\n",
    "\n",
    "\"lunes\" in tupla_dias\n",
    "tupla_dias.count(\"lunes\")\n",
    "\n"
   ]
  },
  {
   "cell_type": "code",
   "execution_count": 57,
   "metadata": {},
   "outputs": [
    {
     "data": {
      "text/plain": [
       "str"
      ]
     },
     "execution_count": 57,
     "metadata": {},
     "output_type": "execute_result"
    }
   ],
   "source": [
    "mi_tupla_unitaria = ('Blanco',)\n",
    "type(mi_tupla_unitaria)"
   ]
  },
  {
   "cell_type": "code",
   "execution_count": 75,
   "metadata": {},
   "outputs": [
    {
     "name": "stdout",
     "output_type": "stream",
     "text": [
      "(10, 22, 'Henry')\n",
      "15\n",
      "20\n",
      "hola\n",
      "(15, 20, 'hola')\n"
     ]
    }
   ],
   "source": [
    "#Empaquetar tuplas\n",
    "x=10\n",
    "y=22\n",
    "z=\"Henry\"\n",
    "mi_tupla= x,y,z\n",
    "print(mi_tupla)\n",
    "\n",
    "#desempaquetar tuplas\n",
    "tupla=(15,20,\"hola\")\n",
    "a,b,c=tupla\n",
    "print(a)\n",
    "print(b)\n",
    "print(c)\n",
    "print(tupla)\n"
   ]
  },
  {
   "cell_type": "code",
   "execution_count": 79,
   "metadata": {},
   "outputs": [
    {
     "name": "stdout",
     "output_type": "stream",
     "text": [
      "3\n",
      "7\n",
      "9\n"
     ]
    }
   ],
   "source": [
    "#tupla_impares=(1,3,5,7,9)\n",
    "#primero = tupla_impares[1]\n",
    "#cuarto = tupla_impares[3]\n",
    "#quinto = tupla_impares[4]\n",
    "#print(primero)\n",
    "#print(cuarto)\n",
    "#print(quinto)"
   ]
  },
  {
   "cell_type": "code",
   "execution_count": 5,
   "metadata": {},
   "outputs": [
    {
     "name": "stdout",
     "output_type": "stream",
     "text": [
      "7\n",
      "9\n"
     ]
    }
   ],
   "source": [
    "tupla_impares=(1,3,5,7,9)\n",
    "_,_,_,cuarto,quinto=tupla_impares\n",
    "print(cuarto)\n",
    "print(quinto)\n"
   ]
  },
  {
   "cell_type": "code",
   "execution_count": 10,
   "metadata": {},
   "outputs": [
    {
     "data": {
      "text/plain": [
       "list"
      ]
     },
     "execution_count": 10,
     "metadata": {},
     "output_type": "execute_result"
    }
   ],
   "source": [
    "type(tupla_impares)\n",
    "lista_impares=list(tupla_impares)\n",
    "type(lista_impares) "
   ]
  },
  {
   "cell_type": "code",
   "execution_count": 4,
   "metadata": {},
   "outputs": [
    {
     "name": "stdout",
     "output_type": "stream",
     "text": [
      "P\n",
      "e\n",
      "z\n",
      "k\n",
      "y\n",
      " \n",
      "E\n",
      "l\n",
      " \n"
     ]
    }
   ],
   "source": [
    "cadena = \"Pezky El Hombre Pez\"\n",
    "for c in cadena:\n",
    "    if c==\"H\":\n",
    "        break\n",
    "    else: \n",
    "        print(c)"
   ]
  },
  {
   "cell_type": "code",
   "execution_count": 7,
   "metadata": {},
   "outputs": [
    {
     "name": "stdout",
     "output_type": "stream",
     "text": [
      "['Rojo', 'Azul', 'Amarillo']\n"
     ]
    }
   ],
   "source": [
    "mi_diccionario = {  'Colores Primarios': ['Rojo','Azul','Amarillo'], \n",
    "                    'Colores secundarios': ['Naranja','Violeta','Verde'], \n",
    "                    'Clave3': 10,\n",
    "                    'Clave4': False}\n",
    "print(mi_diccionario['Colores Primarios'])"
   ]
  },
  {
   "cell_type": "code",
   "execution_count": 8,
   "metadata": {},
   "outputs": [
    {
     "name": "stdout",
     "output_type": "stream",
     "text": [
      "4\n"
     ]
    }
   ],
   "source": [
    "mi_diccionario[\"Clave3\"]=4\n",
    "print(mi_diccionario[\"Clave3\"])"
   ]
  },
  {
   "cell_type": "code",
   "execution_count": 20,
   "metadata": {},
   "outputs": [
    {
     "name": "stdout",
     "output_type": "stream",
     "text": [
      "4\n"
     ]
    }
   ],
   "source": [
    "#print(mi_diccionario.keys())\n",
    "print(len(mi_diccionario))"
   ]
  },
  {
   "cell_type": "code",
   "execution_count": 23,
   "metadata": {},
   "outputs": [
    {
     "name": "stdout",
     "output_type": "stream",
     "text": [
      "a\n",
      "b\n",
      "c\n"
     ]
    }
   ],
   "source": [
    "mi_dict = {'a':1, 'b':2, 'c':3}\n",
    "for i in mi_dict:\n",
    "    print(i)"
   ]
  },
  {
   "cell_type": "code",
   "execution_count": 24,
   "metadata": {},
   "outputs": [
    {
     "name": "stdout",
     "output_type": "stream",
     "text": [
      "página1\n"
     ]
    }
   ],
   "source": [
    "libro = ['página1', 'página2', 'página3', 'página4']\n",
    "marcapaginas = iter(libro)\n",
    "print(next(marcapaginas))"
   ]
  },
  {
   "cell_type": "code",
   "execution_count": 25,
   "metadata": {},
   "outputs": [
    {
     "name": "stdout",
     "output_type": "stream",
     "text": [
      "página2\n"
     ]
    }
   ],
   "source": [
    "print(next(marcapaginas))"
   ]
  },
  {
   "cell_type": "code",
   "execution_count": 26,
   "metadata": {},
   "outputs": [
    {
     "name": "stdout",
     "output_type": "stream",
     "text": [
      "página3\n"
     ]
    }
   ],
   "source": [
    "print(next(marcapaginas))"
   ]
  },
  {
   "cell_type": "code",
   "execution_count": 27,
   "metadata": {},
   "outputs": [
    {
     "name": "stdout",
     "output_type": "stream",
     "text": [
      "página4\n"
     ]
    }
   ],
   "source": [
    "print(next(marcapaginas))"
   ]
  },
  {
   "cell_type": "code",
   "execution_count": 28,
   "metadata": {},
   "outputs": [
    {
     "ename": "StopIteration",
     "evalue": "",
     "output_type": "error",
     "traceback": [
      "\u001b[1;31m---------------------------------------------------------------------------\u001b[0m",
      "\u001b[1;31mStopIteration\u001b[0m                             Traceback (most recent call last)",
      "Cell \u001b[1;32mIn[28], line 1\u001b[0m\n\u001b[1;32m----> 1\u001b[0m \u001b[39mprint\u001b[39m(\u001b[39mnext\u001b[39;49m(marcapaginas))\n",
      "\u001b[1;31mStopIteration\u001b[0m: "
     ]
    }
   ],
   "source": [
    "print(next(marcapaginas))"
   ]
  },
  {
   "cell_type": "code",
   "execution_count": 31,
   "metadata": {},
   "outputs": [
    {
     "name": "stdout",
     "output_type": "stream",
     "text": [
      "(1, 'a')\n",
      "(2, 'b')\n",
      "(3, 'c')\n"
     ]
    }
   ],
   "source": [
    "lista_1 = [1, 2, 3]\n",
    "lista_2 = ['a', 'b', 'c']\n",
    "lista_3 = [\"casa\",\"carro\",\"beca\"]\n",
    "combinacion = zip(lista_1, lista_2, lista_3)\n",
    "for i in combinacion:\n",
    "    print(i)"
   ]
  },
  {
   "cell_type": "code",
   "execution_count": 35,
   "metadata": {},
   "outputs": [
    {
     "name": "stdout",
     "output_type": "stream",
     "text": [
      "['e', 'e', 'e', 'e', 'e', 'e']\n",
      "6\n"
     ]
    }
   ],
   "source": [
    "frase = \"el perro de san roque no tiene rabo\"\n",
    "erres = [i for i in frase if i == 'e']\n",
    "print(erres)\n",
    "print(len(erres))"
   ]
  },
  {
   "cell_type": "code",
   "execution_count": 1,
   "metadata": {},
   "outputs": [
    {
     "name": "stdout",
     "output_type": "stream",
     "text": [
      "El valor 3 es primo\n",
      "El valor 5 es primo\n",
      "El valor 5 es primo\n",
      "El valor 7 es primo\n",
      "El valor 7 es primo\n",
      "El valor 7 es primo\n",
      "El valor 7 es primo\n",
      "El valor 11 es primo\n",
      "El valor 11 es primo\n",
      "El valor 11 es primo\n",
      "El valor 11 es primo\n",
      "El valor 11 es primo\n",
      "El valor 11 es primo\n",
      "El valor 11 es primo\n",
      "El valor 11 es primo\n",
      "El valor 13 es primo\n",
      "El valor 13 es primo\n",
      "El valor 13 es primo\n",
      "El valor 13 es primo\n",
      "El valor 13 es primo\n",
      "El valor 13 es primo\n",
      "El valor 13 es primo\n",
      "El valor 13 es primo\n",
      "El valor 13 es primo\n",
      "El valor 13 es primo\n",
      "El valor 17 es primo\n",
      "El valor 17 es primo\n",
      "El valor 17 es primo\n",
      "El valor 17 es primo\n",
      "El valor 17 es primo\n",
      "El valor 17 es primo\n",
      "El valor 17 es primo\n",
      "El valor 17 es primo\n",
      "El valor 17 es primo\n",
      "El valor 17 es primo\n",
      "El valor 17 es primo\n",
      "El valor 17 es primo\n",
      "El valor 17 es primo\n",
      "El valor 17 es primo\n",
      "El valor 19 es primo\n",
      "El valor 19 es primo\n",
      "El valor 19 es primo\n",
      "El valor 19 es primo\n",
      "El valor 19 es primo\n",
      "El valor 19 es primo\n",
      "El valor 19 es primo\n",
      "El valor 19 es primo\n",
      "El valor 19 es primo\n",
      "El valor 19 es primo\n",
      "El valor 19 es primo\n",
      "El valor 19 es primo\n",
      "El valor 19 es primo\n",
      "El valor 19 es primo\n",
      "El valor 19 es primo\n",
      "El valor 19 es primo\n",
      "El valor 23 es primo\n",
      "El valor 23 es primo\n",
      "El valor 23 es primo\n",
      "El valor 23 es primo\n",
      "El valor 23 es primo\n",
      "El valor 23 es primo\n",
      "El valor 23 es primo\n",
      "El valor 23 es primo\n",
      "El valor 23 es primo\n",
      "El valor 23 es primo\n",
      "El valor 23 es primo\n",
      "El valor 23 es primo\n",
      "El valor 23 es primo\n",
      "El valor 23 es primo\n",
      "El valor 23 es primo\n",
      "El valor 23 es primo\n",
      "El valor 23 es primo\n",
      "El valor 23 es primo\n",
      "El valor 23 es primo\n",
      "El valor 23 es primo\n",
      "El valor 25 es primo\n",
      "El valor 25 es primo\n",
      "El valor 29 es primo\n",
      "El valor 29 es primo\n",
      "El valor 29 es primo\n",
      "El valor 29 es primo\n",
      "El valor 29 es primo\n",
      "El valor 29 es primo\n",
      "El valor 29 es primo\n",
      "El valor 29 es primo\n",
      "El valor 29 es primo\n",
      "El valor 29 es primo\n",
      "El valor 29 es primo\n",
      "El valor 29 es primo\n",
      "El valor 29 es primo\n",
      "El valor 29 es primo\n",
      "El valor 29 es primo\n",
      "El valor 29 es primo\n",
      "El valor 29 es primo\n",
      "El valor 29 es primo\n",
      "El valor 29 es primo\n",
      "El valor 29 es primo\n",
      "El valor 29 es primo\n",
      "El valor 29 es primo\n",
      "El valor 29 es primo\n",
      "El valor 29 es primo\n",
      "El valor 29 es primo\n",
      "El valor 29 es primo\n"
     ]
    }
   ],
   "source": [
    "n=0\n",
    "primo=True\n",
    "while (n<30):\n",
    "    for div in range (2,n):\n",
    "        if (n%div==0):\n",
    "            primo=False\n",
    "            break\n",
    "        if primo:\n",
    "            print(\"El valor\",n,\"es primo\")\n",
    "        else:\n",
    "            primo= True\n",
    "    n+=1\n"
   ]
  },
  {
   "cell_type": "code",
   "execution_count": 3,
   "metadata": {},
   "outputs": [],
   "source": [
    "def resultado_multiplicacion (num1,num2):\n",
    "    resultado=num1*num2\n",
    "    return resultado             "
   ]
  },
  {
   "cell_type": "code",
   "execution_count": 4,
   "metadata": {},
   "outputs": [
    {
     "name": "stdout",
     "output_type": "stream",
     "text": [
      "5*4=20\n"
     ]
    }
   ],
   "source": [
    "valor1=int(input(\"ingrese el Primer valor: \"))\n",
    "valor2=int(input(\"ingrese el Segundo valor: \"))\n",
    "if not valor1 or valor2 == type(int):\n",
    "    print(\"El valor debe ser un Entero\")\n",
    "else:\n",
    "    #print(\"El Resultado de {}*{} = {}\".format(valor1, valor2, resultado_multiplicacion(valor1,valor2)))\n",
    "    print(f\"{valor1}*{valor2}={resultado_multiplicacion(valor1,valor2)}\")"
   ]
  },
  {
   "cell_type": "code",
   "execution_count": null,
   "metadata": {},
   "outputs": [
    {
     "name": "stdout",
     "output_type": "stream",
     "text": [
      "La edad es: 30\n"
     ]
    }
   ],
   "source": [
    "def obtener_edad():\n",
    "    return 30\n",
    "print(\"La edad es:\", obtener_edad())"
   ]
  },
  {
   "cell_type": "code",
   "execution_count": 18,
   "metadata": {},
   "outputs": [],
   "source": [
    "def suma_de_valores(num):\n",
    "    if num == 0 or num== 1:\n",
    "        return 1\n",
    "    else:\n",
    "        suma = num + suma_de_valores(num-1)\n",
    "        return suma  "
   ]
  },
  {
   "cell_type": "code",
   "execution_count": 20,
   "metadata": {},
   "outputs": [
    {
     "name": "stdout",
     "output_type": "stream",
     "text": [
      "21\n"
     ]
    }
   ],
   "source": [
    "valor=suma_de_valores(6)\n",
    "print(valor)"
   ]
  },
  {
   "cell_type": "code",
   "execution_count": null,
   "metadata": {},
   "outputs": [],
   "source": []
  }
 ],
 "metadata": {
  "kernelspec": {
   "display_name": "Python 3",
   "language": "python",
   "name": "python3"
  },
  "language_info": {
   "codemirror_mode": {
    "name": "ipython",
    "version": 3
   },
   "file_extension": ".py",
   "mimetype": "text/x-python",
   "name": "python",
   "nbconvert_exporter": "python",
   "pygments_lexer": "ipython3",
   "version": "3.11.4"
  },
  "orig_nbformat": 4
 },
 "nbformat": 4,
 "nbformat_minor": 2
}
