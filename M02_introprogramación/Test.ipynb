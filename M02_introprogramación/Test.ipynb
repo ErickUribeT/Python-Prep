{
 "cells": [
  {
   "cell_type": "code",
   "execution_count": 90,
   "metadata": {},
   "outputs": [
    {
     "name": "stdout",
     "output_type": "stream",
     "text": [
      "Hello Madafackas jiji xD\n",
      "0\n",
      "1\n",
      "2\n",
      "3\n",
      "4\n",
      "5\n",
      "6\n",
      "7\n",
      "8\n",
      "9\n",
      "10\n",
      "11\n",
      "12\n",
      "13\n",
      "14\n",
      "15\n",
      "16\n",
      "17\n",
      "18\n",
      "19\n",
      "20\n"
     ]
    }
   ],
   "source": [
    "print(\"Hello Madafackas jiji xD\")\n",
    "a = 0\n",
    "while a <= 20:\n",
    "    print(a)\n",
    "    a +=1"
   ]
  },
  {
   "cell_type": "code",
   "execution_count": null,
   "metadata": {},
   "outputs": [],
   "source": [
    "num1=int(input(\"Ingrese número 1: \"))\n",
    "num2=int(input(\"Ingrese número 2: \"))\n",
    "residuo=num1%num2\n",
    "condicion=residuo==0\n",
    "print(num1, \"Es divisible entre\", num2,\"?\", condicion)"
   ]
  },
  {
   "cell_type": "code",
   "execution_count": null,
   "metadata": {},
   "outputs": [],
   "source": [
    "mi_lista=[\"rojo,blanco\"]\n",
    "mi_lista.append(\"blanco\")\n",
    "print(mi_lista)"
   ]
  },
  {
   "cell_type": "code",
   "execution_count": null,
   "metadata": {},
   "outputs": [],
   "source": [
    "num1=5+5j\n",
    "num2=num1+3.66\n",
    "print(num1+num2)"
   ]
  },
  {
   "cell_type": "code",
   "execution_count": null,
   "metadata": {},
   "outputs": [],
   "source": [
    "num=\"8\"\n",
    "type(num)\n",
    "o=int(num)\n",
    "#type(o)"
   ]
  },
  {
   "cell_type": "code",
   "execution_count": null,
   "metadata": {},
   "outputs": [],
   "source": [
    "tope_rango=30\n",
    "primo = True\n",
    "for i in range (0,tope_rango):\n",
    "    if i>1:\n",
    "        for div in range(2, i):\n",
    "            if (i % div == 0):\n",
    "                primo = False\n",
    "        if (primo):\n",
    "            print(i)\n",
    "        else:\n",
    "            primo = True\n"
   ]
  },
  {
   "cell_type": "code",
   "execution_count": null,
   "metadata": {},
   "outputs": [],
   "source": [
    "tope_rango=30\n",
    "n = 0\n",
    "primo = True\n",
    "while(n<2):\n",
    "    n+=1\n",
    "while (n < tope_rango):\n",
    "    for div in range(2, n):\n",
    "        if (n % div == 0):\n",
    "            primo = False\n",
    "    if (primo):\n",
    "        print(n)\n",
    "    else:\n",
    "        primo = True\n",
    "    n += 1"
   ]
  },
  {
   "cell_type": "code",
   "execution_count": null,
   "metadata": {},
   "outputs": [],
   "source": [
    "mi_lista = ['Rojo','Azul','Amarillo','Naranja','Violeta','Verde']\n",
    "print(mi_lista)\n",
    "type(mi_lista)\n",
    "print(mi_lista[1])\n",
    "rebanada=mi_lista[2:5]\n",
    "print(rebanada)\n",
    "print(mi_lista[2:])\n",
    "mi_lista.append(\"gris\")\n",
    "mi_lista.insert(0,\"negro\")\n",
    "print(mi_lista)\n",
    "mi_lista.extend([\"Marrón\",\"Fucsia\",\"rosado\"])\n",
    "print(mi_lista)\n",
    "print(mi_lista.index(\"Fucsia\"))\n",
    "mi_lista.remove(\"negro\")\n",
    "print(mi_lista)\n",
    "\"Amarillo\" in mi_lista\n"
   ]
  },
  {
   "cell_type": "code",
   "execution_count": null,
   "metadata": {},
   "outputs": [],
   "source": [
    "ultimo=mi_lista.pop()\n",
    "print(ultimo)\n",
    "print(mi_lista)\n",
    "print(mi_lista*3)\n",
    "lista= [1,4,3,6,8,2]\n",
    "lista.sort()\n",
    "print(lista)\n",
    "mi_lista.sort()\n",
    "print(mi_lista)\n",
    "lista.sort(reverse=True)\n",
    "print(lista)"
   ]
  },
  {
   "cell_type": "code",
   "execution_count": null,
   "metadata": {},
   "outputs": [],
   "source": [
    "tupla_dias= ('lunes', 'martes', 'miércoles','jueves','viernes','sábado', 'domingo')\n",
    "print(tupla_dias)\n",
    "print(tupla_dias[3])\n",
    "\n",
    "mi_tupla= (1,2,3,4)\n",
    "print(mi_tupla)\n",
    "print(mi_tupla[2])\n",
    "\n",
    "\"lunes\" in tupla_dias\n",
    "tupla_dias.count(\"lunes\")\n",
    "\n"
   ]
  },
  {
   "cell_type": "code",
   "execution_count": null,
   "metadata": {},
   "outputs": [],
   "source": [
    "mi_tupla_unitaria = ('Blanco',)\n",
    "type(mi_tupla_unitaria)"
   ]
  },
  {
   "cell_type": "code",
   "execution_count": null,
   "metadata": {},
   "outputs": [],
   "source": [
    "#Empaquetar tuplas\n",
    "x=10\n",
    "y=22\n",
    "z=\"Henry\"\n",
    "mi_tupla= x,y,z\n",
    "print(mi_tupla)\n",
    "\n",
    "#desempaquetar tuplas\n",
    "tupla=(15,20,\"hola\")\n",
    "a,b,c=tupla\n",
    "print(a)\n",
    "print(b)\n",
    "print(c)\n",
    "print(tupla)\n"
   ]
  },
  {
   "cell_type": "code",
   "execution_count": null,
   "metadata": {},
   "outputs": [],
   "source": [
    "#tupla_impares=(1,3,5,7,9)\n",
    "#primero = tupla_impares[1]\n",
    "#cuarto = tupla_impares[3]\n",
    "#quinto = tupla_impares[4]\n",
    "#print(primero)\n",
    "#print(cuarto)\n",
    "#print(quinto)"
   ]
  },
  {
   "cell_type": "code",
   "execution_count": null,
   "metadata": {},
   "outputs": [],
   "source": [
    "tupla_impares=(1,3,5,7,9)\n",
    "_,_,_,cuarto,quinto=tupla_impares\n",
    "print(cuarto)\n",
    "print(quinto)\n"
   ]
  },
  {
   "cell_type": "code",
   "execution_count": null,
   "metadata": {},
   "outputs": [],
   "source": [
    "type(tupla_impares)\n",
    "lista_impares=list(tupla_impares)\n",
    "type(lista_impares) "
   ]
  },
  {
   "cell_type": "code",
   "execution_count": null,
   "metadata": {},
   "outputs": [],
   "source": [
    "cadena = \"Pezky El Hombre Pez\"\n",
    "for c in cadena:\n",
    "    if c==\"H\":\n",
    "        break\n",
    "    else: \n",
    "        print(c)"
   ]
  },
  {
   "cell_type": "code",
   "execution_count": null,
   "metadata": {},
   "outputs": [],
   "source": [
    "mi_diccionario = {  'Colores Primarios': ['Rojo','Azul','Amarillo'], \n",
    "                    'Colores secundarios': ['Naranja','Violeta','Verde'], \n",
    "                    'Clave3': 10,\n",
    "                    'Clave4': False}\n",
    "print(mi_diccionario['Colores Primarios'])"
   ]
  },
  {
   "cell_type": "code",
   "execution_count": null,
   "metadata": {},
   "outputs": [],
   "source": [
    "mi_diccionario[\"Clave3\"]=4\n",
    "print(mi_diccionario[\"Clave3\"])"
   ]
  },
  {
   "cell_type": "code",
   "execution_count": null,
   "metadata": {},
   "outputs": [],
   "source": [
    "#print(mi_diccionario.keys())\n",
    "print(len(mi_diccionario))"
   ]
  },
  {
   "cell_type": "code",
   "execution_count": null,
   "metadata": {},
   "outputs": [],
   "source": [
    "mi_dict = {'a':1, 'b':2, 'c':3}\n",
    "for i in mi_dict:\n",
    "    print(i)"
   ]
  },
  {
   "cell_type": "code",
   "execution_count": null,
   "metadata": {},
   "outputs": [],
   "source": [
    "libro = ['página1', 'página2', 'página3', 'página4']\n",
    "marcapaginas = iter(libro)\n",
    "print(next(marcapaginas))"
   ]
  },
  {
   "cell_type": "code",
   "execution_count": null,
   "metadata": {},
   "outputs": [],
   "source": [
    "print(next(marcapaginas))"
   ]
  },
  {
   "cell_type": "code",
   "execution_count": null,
   "metadata": {},
   "outputs": [],
   "source": [
    "print(next(marcapaginas))"
   ]
  },
  {
   "cell_type": "code",
   "execution_count": null,
   "metadata": {},
   "outputs": [],
   "source": [
    "print(next(marcapaginas))"
   ]
  },
  {
   "cell_type": "code",
   "execution_count": null,
   "metadata": {},
   "outputs": [],
   "source": [
    "print(next(marcapaginas))"
   ]
  },
  {
   "cell_type": "code",
   "execution_count": null,
   "metadata": {},
   "outputs": [],
   "source": [
    "lista_1 = [1, 2, 3]\n",
    "lista_2 = ['a', 'b', 'c']\n",
    "lista_3 = [\"casa\",\"carro\",\"beca\"]\n",
    "combinacion = zip(lista_1, lista_2, lista_3)\n",
    "for i in combinacion:\n",
    "    print(i)"
   ]
  },
  {
   "cell_type": "code",
   "execution_count": null,
   "metadata": {},
   "outputs": [],
   "source": [
    "frase = \"el perro de san roque no tiene rabo\"\n",
    "erres = [i for i in frase if i == 'e']\n",
    "print(erres)\n",
    "print(len(erres))"
   ]
  },
  {
   "cell_type": "code",
   "execution_count": null,
   "metadata": {},
   "outputs": [],
   "source": [
    "n=0\n",
    "primo=True\n",
    "while (n<30):\n",
    "    for div in range (2,n):\n",
    "        if (n%div==0):\n",
    "            primo=False\n",
    "            break\n",
    "        if primo:\n",
    "            print(\"El valor\",n,\"es primo\")\n",
    "        else:\n",
    "            primo= True\n",
    "    n+=1\n"
   ]
  },
  {
   "cell_type": "code",
   "execution_count": null,
   "metadata": {},
   "outputs": [],
   "source": [
    "def resultado_multiplicacion (num1,num2):\n",
    "    resultado=num1*num2\n",
    "    return resultado             "
   ]
  },
  {
   "cell_type": "code",
   "execution_count": null,
   "metadata": {},
   "outputs": [],
   "source": [
    "valor1=int(input(\"ingrese el Primer valor: \"))\n",
    "valor2=int(input(\"ingrese el Segundo valor: \"))\n",
    "if not valor1 or valor2 == type(int):\n",
    "    print(\"El valor debe ser un Entero\")\n",
    "else:\n",
    "    #print(\"El Resultado de {}*{} = {}\".format(valor1, valor2, resultado_multiplicacion(valor1,valor2)))\n",
    "    print(f\"{valor1}*{valor2}={resultado_multiplicacion(valor1,valor2)}\")"
   ]
  },
  {
   "cell_type": "code",
   "execution_count": null,
   "metadata": {},
   "outputs": [],
   "source": [
    "def obtener_edad():\n",
    "    return 30\n",
    "print(\"La edad es:\", obtener_edad())"
   ]
  },
  {
   "cell_type": "code",
   "execution_count": null,
   "metadata": {},
   "outputs": [],
   "source": [
    "def suma_de_valores(num):\n",
    "    if num == 0 or num== 1:\n",
    "        return 1\n",
    "    else:\n",
    "        suma = num + suma_de_valores(num-1)\n",
    "        return suma  "
   ]
  },
  {
   "cell_type": "code",
   "execution_count": null,
   "metadata": {},
   "outputs": [],
   "source": [
    "valor=suma_de_valores(6)\n",
    "print(valor)"
   ]
  },
  {
   "cell_type": "code",
   "execution_count": null,
   "metadata": {},
   "outputs": [],
   "source": [
    "complejo = \"2\"\n",
    "print (complejo)\n",
    "type (complejo)\n"
   ]
  },
  {
   "cell_type": "code",
   "execution_count": null,
   "metadata": {},
   "outputs": [],
   "source": [
    "entero=int(complejo)\n",
    "print(type(entero))"
   ]
  },
  {
   "cell_type": "code",
   "execution_count": null,
   "metadata": {},
   "outputs": [],
   "source": [
    "numeros = [1,2,3,4]\n",
    "for num in numeros:\n",
    "    sum = num + 1\n",
    "    print(sum)"
   ]
  },
  {
   "cell_type": "code",
   "execution_count": null,
   "metadata": {},
   "outputs": [],
   "source": [
    "for element in [1,2,3,4,\"carlos\"]:\n",
    "    print(element)"
   ]
  },
  {
   "cell_type": "code",
   "execution_count": null,
   "metadata": {},
   "outputs": [],
   "source": [
    "nombres = [\"Juan\", \"Pedro\", \"Carlos\", \"Maria\",\"Erick\"]\n",
    "for n in nombres:\n",
    "    print(n)\n",
    "    if n == \"Carlos\":\n",
    "        print(f\"A este man de {n} hay que darle amor\")\n",
    "        continue"
   ]
  },
  {
   "cell_type": "code",
   "execution_count": null,
   "metadata": {},
   "outputs": [],
   "source": [
    "nombres = [\"Juan\", \"Pedro\", \"Carlos\", \"Maria\",\"Erick\"]\n",
    "nombres1 = nombres[::-1]\n",
    "print(nombres1)\n",
    "condicion = \"Camilo\" in nombres\n",
    "print (condicion)"
   ]
  },
  {
   "cell_type": "code",
   "execution_count": null,
   "metadata": {},
   "outputs": [],
   "source": [
    "nombres = [\"Juan\", \"Pedro\", \"Carlos\", \"Maria\",\"Erick\"]\n",
    "elemento = nombres[-1]\n",
    "print(elemento)"
   ]
  },
  {
   "cell_type": "code",
   "execution_count": null,
   "metadata": {},
   "outputs": [],
   "source": [
    "texto = \" Hola\\t como estan muchachos\\n el dia de hoy\"\n",
    "palabras = texto.split()\n",
    "print (palabras)\n",
    "n = palabras [::-1]\n",
    "print(n)\n",
    "\n",
    "n.reverse()\n",
    "print (n)"
   ]
  },
  {
   "cell_type": "code",
   "execution_count": null,
   "metadata": {},
   "outputs": [],
   "source": [
    "nombres = [\"Juan\", \"Pedro\", \"Carlos\", \"Maria\",\"Erick\"]\n",
    "nombres.insert(100,\"Lalo\")\n",
    "print(nombres)"
   ]
  },
  {
   "cell_type": "code",
   "execution_count": null,
   "metadata": {},
   "outputs": [],
   "source": [
    "listaNum = []\n",
    "num = 20\n",
    "while num > 0:\n",
    "    listaNum.append(num)\n",
    "    num -= 1\n",
    "    if num == 10:\n",
    "        break\n",
    "print(listaNum)"
   ]
  },
  {
   "cell_type": "code",
   "execution_count": null,
   "metadata": {},
   "outputs": [],
   "source": [
    "from random import *\n",
    "dado = randint(1,6)\n",
    "print(dado)"
   ]
  },
  {
   "cell_type": "code",
   "execution_count": null,
   "metadata": {},
   "outputs": [],
   "source": [
    "import random as rd\n",
    "print(rd.randint(1,6))"
   ]
  },
  {
   "cell_type": "code",
   "execution_count": 26,
   "metadata": {},
   "outputs": [
    {
     "name": "stdout",
     "output_type": "stream",
     "text": [
      "0 Juan\n"
     ]
    }
   ],
   "source": [
    "from random import *\n",
    "nombres = [\"Juan\", \"Pedro\", \"Carlos\", \"Maria\",\"Erick\"]\n",
    "indice = randrange(len(nombres))\n",
    "estudiante = nombres[indice]\n",
    "print(indice,estudiante)\n"
   ]
  },
  {
   "cell_type": "code",
   "execution_count": null,
   "metadata": {},
   "outputs": [],
   "source": [
    "#Juego de ahorcado mostrando 2 hints (primera y segunda letra)\n",
    "from random import *\n",
    "print(\"Adivine la siguiente palabra de ahorcado\")\n",
    "ListaPalabras = [\"Pezky\",\"Cucha\",\"Luna\",\"Gimnasio\",\"Videojuegos\",\"Pepuequitas\",\"Whiskey\"]\n",
    "aleatorio = choice(ListaPalabras).upper()\n",
    "#print(aleatorio)\n",
    "primeraletra = aleatorio[0]\n",
    "ultimaletra = aleatorio[-1]\n",
    "n= len(aleatorio) -2\n",
    "guiones = \" _ \" * n\n",
    "pista = primeraletra + guiones + ultimaletra\n",
    "print(pista)\n",
    "user=input(\"Qué palabra será?\").upper()\n",
    "if (user == aleatorio):\n",
    "    print(\"Adivinaste!\")\n",
    "else:\n",
    "    print(\"Fallaste cabro!\")\n"
   ]
  },
  {
   "cell_type": "code",
   "execution_count": null,
   "metadata": {},
   "outputs": [],
   "source": [
    "nombres = [\"Juan\", \"Pedro\", \"Carlos\", \"Maria\",\"Erick\"]\n",
    "nombres.clear()\n",
    "print (nombres)"
   ]
  },
  {
   "cell_type": "code",
   "execution_count": null,
   "metadata": {},
   "outputs": [],
   "source": [
    "for i in range (2,11):\n",
    "    print (f\"---tabla del {i}---\")\n",
    "    for j in range (1,11):\n",
    "        print (f\"{i}*{j}={i*j}\")"
   ]
  },
  {
   "cell_type": "code",
   "execution_count": null,
   "metadata": {},
   "outputs": [],
   "source": [
    "#Si los indices de ambas variables son paralelas\n",
    "nombres = [\"Juan\", \"Pedro\", \"Carlos\", \"Maria\",\"Erick\"]\n",
    "notas = [3.9, 4.0, 3.5, 2.0, 5.0]\n",
    "print(\"Notas de estudiantes por debajo de 4\")\n",
    "for i in range(len(nombres)):\n",
    "    nombre = nombres[i]\n",
    "    nota = notas[i]\n",
    "    if nota < 4:\n",
    "        print(f\"El estudiante {nombre} tiene nota de {nota}\")\n",
    "    "
   ]
  },
  {
   "cell_type": "code",
   "execution_count": null,
   "metadata": {},
   "outputs": [],
   "source": [
    "nombres = [\"Juan\", \"Pedro\", \"Carlos\", \"Maria\",\"Erick\"]\n",
    "print(nombres[1] [1]) "
   ]
  },
  {
   "cell_type": "code",
   "execution_count": null,
   "metadata": {},
   "outputs": [],
   "source": [
    "numeros = int(input(\"Cuántos números desea ingresar?\"))\n",
    "impares = 0\n",
    "pares = 0\n",
    "lista = []\n",
    "for contador in range(numeros):\n",
    "    num = int(input(\"Ingrese un número: \"))\n",
    "    if num %2 == 0:\n",
    "        pares+=1\n",
    "    else:\n",
    "        impares+=num\n",
    "    lista.append(num)\n",
    "print(f\"Estos fueron los números ingresados: {lista}\")\n",
    "print(f\"La Cantidad de números pares ingresados es: {pares}\")\n",
    "print(f\"La Suma de números impares ingresados es: {impares}\")"
   ]
  },
  {
   "cell_type": "code",
   "execution_count": null,
   "metadata": {},
   "outputs": [],
   "source": [
    "from random import randint\n",
    "\n",
    "dinero = 10\n",
    "contador = 0\n",
    "\n",
    "while dinero > 0:\n",
    "    respuesta = input(f\"Tienes ${dinero}. ¿Desea jugar? (s/n)\").lower()\n",
    "    \n",
    "    if respuesta != \"s\":\n",
    "        break\n",
    "    \n",
    "    apuesta = int(input(\"¿Cuánto desea apostar?: \"))\n",
    "    \n",
    "    if apuesta > dinero:\n",
    "        print(\"No tienes suficiente dinero\")\n",
    "        continue\n",
    "    \n",
    "    dado1 = randint(1, 6)\n",
    "    dado2 = randint(1, 6)\n",
    "    sumdados = dado1 + dado2\n",
    "    \n",
    "    adivina = input(\"El número que va a salir es par o impar? \").lower()\n",
    "    \n",
    "    if sumdados % 2 == 0 and adivina == \"par\":\n",
    "        dinero += apuesta\n",
    "        print(f\"Elegiste {adivina}. Los dados que salieron son {dado1} y {dado2} y ambos suman {sumdados}. Has ganado!!\")\n",
    "        contador+=1\n",
    "    elif sumdados % 2 != 0 and adivina == \"impar\":\n",
    "        dinero += apuesta\n",
    "        print(f\"Elegiste {adivina}. Los dados que salieron son {dado1} y {dado2} y ambos suman {sumdados}. Has ganado!!\")\n",
    "        contador+=1\n",
    "    else:\n",
    "        dinero -= apuesta\n",
    "        print(f\"Elegiste {adivina}. Los dados que salieron son {dado1} y {dado2} y ambos suman {sumdados}. Has Perdido!!\")\n",
    "\n",
    "if dinero == 0:\n",
    "    print(\"Se te acabó el dinero\")\n",
    "\n",
    "print(f\"El jugador se retira con ${dinero} y ganaste {contador} veces. Gracias por jugar Cho Han!\")"
   ]
  },
  {
   "cell_type": "code",
   "execution_count": 6,
   "metadata": {},
   "outputs": [
    {
     "name": "stdout",
     "output_type": "stream",
     "text": [
      "El jugador se retira con $10 y ganaste 0 veces. Gracias por jugar Cho Han!\n"
     ]
    }
   ],
   "source": [
    "from random import randint\n",
    "\n",
    "def obtener_apuesta():\n",
    "    while True:\n",
    "        try:\n",
    "            apuesta = int(input(\"¿Cuánto deseas apostar?: \"))\n",
    "            if apuesta <= 0:\n",
    "                print(\"La apuesta debe ser mayor que cero.\")\n",
    "            elif apuesta > dinero:\n",
    "                print(\"No tienes suficiente dinero.\")\n",
    "            else:\n",
    "                return apuesta\n",
    "        except ValueError:\n",
    "            print(\"Ingresa un número válido.\")\n",
    "\n",
    "dinero = 10\n",
    "contador = 0\n",
    "\n",
    "while dinero > 0:\n",
    "    respuesta = input(f\"Tienes ${dinero}. ¿Deseas jugar? (s/n)\").lower()\n",
    "    \n",
    "    if respuesta != \"s\":\n",
    "        break\n",
    "    \n",
    "    apuesta = obtener_apuesta()\n",
    "    \n",
    "    dado1 = randint(1, 6)\n",
    "    dado2 = randint(1, 6)\n",
    "    sumdados = dado1 + dado2\n",
    "    \n",
    "    adivina = input(\"El número que va a salir es par o impar? \").lower()\n",
    "    \n",
    "    if (sumdados % 2 == 0 and adivina == \"par\") or (sumdados % 2 != 0 and adivina == \"impar\"):\n",
    "        dinero += apuesta\n",
    "        print(f\"Elegiste {adivina}. Los dados que salieron son {dado1} y {dado2} y ambos suman {sumdados}. Has ganado!!\")\n",
    "        contador += 1\n",
    "    else:\n",
    "        dinero -= apuesta\n",
    "        print(f\"Elegiste {adivina}. Los dados que salieron son {dado1} y {dado2} y ambos suman {sumdados}. Has Perdido!!\")\n",
    "\n",
    "if dinero == 0:\n",
    "    print(\"Se te acabó el dinero\")\n",
    "\n",
    "print(f\"El jugador se retira con ${dinero} y ganaste {contador} veces. Gracias por jugar Cho Han!\")"
   ]
  },
  {
   "cell_type": "code",
   "execution_count": 66,
   "metadata": {},
   "outputs": [
    {
     "name": "stdout",
     "output_type": "stream",
     "text": [
      "Nombre del producto con menor precio:\n",
      "microfono\n"
     ]
    }
   ],
   "source": [
    "productos = [\"monitor\",\"mouse\",\"teclado\",\"microfono\",\"camara\",\"audifonos\"]\n",
    "precios = [200, 15, 25, 5, 40, 80]\n",
    "print(\"Nombre del producto con menor precio:\")\n",
    "minimo = min(precios)\n",
    "pos = precios.index(minimo)\n",
    "prod = productos[pos]\n",
    "print(prod)\n"
   ]
  },
  {
   "cell_type": "code",
   "execution_count": 25,
   "metadata": {},
   "outputs": [
    {
     "name": "stdout",
     "output_type": "stream",
     "text": [
      "15\n"
     ]
    }
   ],
   "source": [
    "posproducto=productos.index(\"mouse\")\n",
    "precio=precios[posproducto]\n",
    "print(precio)"
   ]
  },
  {
   "cell_type": "code",
   "execution_count": 26,
   "metadata": {},
   "outputs": [
    {
     "name": "stdout",
     "output_type": "stream",
     "text": [
      "monitor 200\n",
      "mouse 15\n",
      "teclado 25\n",
      "microfono 5\n",
      "camara 40\n",
      "audifonos 80\n"
     ]
    }
   ],
   "source": [
    "for i in range(len(productos)):\n",
    "    listaprod = productos[i]\n",
    "    listaprec = precios[i]\n",
    "    print(listaprod, listaprec)"
   ]
  },
  {
   "cell_type": "code",
   "execution_count": 74,
   "metadata": {},
   "outputs": [
    {
     "name": "stdout",
     "output_type": "stream",
     "text": [
      "Producto precio:\n",
      "monitor 200\n",
      "audifonos 80\n",
      "camara 40\n",
      "teclado 25\n",
      "mouse 15\n"
     ]
    }
   ],
   "source": [
    "productos = [\"monitor\",\"mouse\",\"teclado\",\"microfono\",\"camara\",\"audifonos\"]\n",
    "precios = [200, 15, 25, 5, 40, 80]\n",
    "top5= 0\n",
    "\n",
    "print (\"Producto precio:\")\n",
    "while top5 < 5:\n",
    "    \n",
    "    maximo = max(precios)\n",
    "    posMax = precios.index(maximo)\n",
    "    prod1 = productos[posMax]\n",
    "    print(prod1, maximo)\n",
    "    del precios[posMax]\n",
    "    del productos[posMax]\n",
    "    \n",
    "    top5 +=1\n"
   ]
  },
  {
   "cell_type": "code",
   "execution_count": 15,
   "metadata": {},
   "outputs": [
    {
     "name": "stdout",
     "output_type": "stream",
     "text": [
      "0 Juan\n",
      "1 Pedro\n",
      "2 Carlos\n",
      "3 Maria\n",
      "4 Erick\n"
     ]
    }
   ],
   "source": [
    "nombres = [\"Juan\", \"Pedro\", \"Carlos\", \"Maria\",\"Erick\"] #función enumerate\n",
    "for indice,nombre in enumerate(nombres):\n",
    "    print(indice, nombre)"
   ]
  },
  {
   "cell_type": "code",
   "execution_count": 31,
   "metadata": {},
   "outputs": [
    {
     "name": "stdout",
     "output_type": "stream",
     "text": [
      "Juan\n",
      "Pedro\n",
      "Carlos\n",
      "Maria\n",
      "Erick\n"
     ]
    }
   ],
   "source": [
    "nombres = [\"Juan\", \"Pedro\", \"Carlos\", \"Maria\",\"Erick\"]\n",
    "for indice in nombres:\n",
    "    print(indice)"
   ]
  },
  {
   "cell_type": "code",
   "execution_count": 20,
   "metadata": {},
   "outputs": [
    {
     "data": {
      "text/plain": [
       "True"
      ]
     },
     "execution_count": 20,
     "metadata": {},
     "output_type": "execute_result"
    }
   ],
   "source": [
    "isinstance(nombres,list) #revisar si es una lista"
   ]
  },
  {
   "cell_type": "code",
   "execution_count": 30,
   "metadata": {},
   "outputs": [
    {
     "name": "stdout",
     "output_type": "stream",
     "text": [
      "página1\n",
      "página2\n",
      "página3\n",
      "página4\n",
      "No Existen más elementos\n"
     ]
    }
   ],
   "source": [
    "libro = [\"página1\", \"página2\", \"página3\", \"página4\"] #función iter() y excepciones \n",
    "marcapaginas = iter(libro)\n",
    "try:\n",
    "    print(next(marcapaginas))\n",
    "    print(next(marcapaginas))\n",
    "    print(next(marcapaginas))\n",
    "    print(next(marcapaginas))\n",
    "    print(next(marcapaginas))\n",
    "except StopIteration:\n",
    "    print(\"No Existen más elementos\")"
   ]
  },
  {
   "cell_type": "code",
   "execution_count": 36,
   "metadata": {},
   "outputs": [
    {
     "name": "stdout",
     "output_type": "stream",
     "text": [
      "9\n"
     ]
    }
   ],
   "source": [
    "def calcular_suma(num1,num2=7):\n",
    "    print (num1+num2)\n",
    "\n",
    "calcular_suma(2)\n"
   ]
  },
  {
   "cell_type": "code",
   "execution_count": 38,
   "metadata": {},
   "outputs": [
    {
     "name": "stdout",
     "output_type": "stream",
     "text": [
      "Hola Mundo!\n"
     ]
    }
   ],
   "source": [
    "def saludar():\n",
    "    print(\"Hola Mundo!\")\n",
    "saludar()"
   ]
  },
  {
   "cell_type": "code",
   "execution_count": 4,
   "metadata": {},
   "outputs": [
    {
     "name": "stdout",
     "output_type": "stream",
     "text": [
      "24\n"
     ]
    }
   ],
   "source": [
    "def factorial(num):\n",
    "    if num > 1:\n",
    "        num = num * factorial(num - 1)\n",
    "    return num\n",
    "print(factorial(4))"
   ]
  },
  {
   "cell_type": "code",
   "execution_count": 6,
   "metadata": {},
   "outputs": [
    {
     "name": "stdout",
     "output_type": "stream",
     "text": [
      "1\n"
     ]
    }
   ],
   "source": [
    "def suma_numeros(num):\n",
    "    if num > 1:\n",
    "        num = num + suma_numeros(num - 1)\n",
    "    return num\n",
    "print(suma_numeros(1))"
   ]
  },
  {
   "cell_type": "code",
   "execution_count": 1,
   "metadata": {},
   "outputs": [
    {
     "name": "stdout",
     "output_type": "stream",
     "text": [
      "El item ingresado no existe\n",
      "El item ingresado no existe\n",
      "El item ingresado no existe\n",
      "El item ingresado no existe\n",
      "el total de la orden es: $0.00\n"
     ]
    }
   ],
   "source": [
    "'El Restaurante de Pezky'\n",
    "menu = {\"Baja Taco\":4.00,\n",
    "        \"Burrito\":7.50,\n",
    "        \"Bowl\":8.50,\n",
    "        \"Nachos\":11.00,\n",
    "        \"Quesadilla\":8.50,\n",
    "        \"Super Burrito\":8.50,\n",
    "        \"Super Quesadilla\":9.50,\n",
    "        \"Taco\":3.00,\n",
    "        \"Tortilla Salad\":8.00}\n",
    "order_total=0.0\n",
    "while True:\n",
    "    item = input(\"Ingrese un artículo de su pedido: \").upper()\n",
    "    if item in menu:\n",
    "        order_total+= menu[item]\n",
    "    elif item == \"listo\".upper():\n",
    "        print(f\"el total de la orden es: ${order_total:.2f}\")\n",
    "        break\n",
    "    else:\n",
    "        print(\"El item ingresado no existe\")"
   ]
  },
  {
   "cell_type": "code",
   "execution_count": 3,
   "metadata": {},
   "outputs": [
    {
     "name": "stdout",
     "output_type": "stream",
     "text": [
      "El artículo ingresado no está en el menú. Por favor, elija un artículo válido.\n",
      "El artículo ingresado no está en el menú. Por favor, elija un artículo válido.\n",
      "El artículo ingresado no está en el menú. Por favor, elija un artículo válido.\n"
     ]
    }
   ],
   "source": [
    "menu = {\n",
    "    \"BAJA TACO\": 4.00,\n",
    "    \"BURRITO\": 7.50,\n",
    "    \"BOWL\": 8.50,\n",
    "    \"NACHOS\": 11.00,\n",
    "    \"QUESADILLA\": 8.50,\n",
    "    \"SUPER BURRITO\": 8.50,\n",
    "    \"SUPER QUESADILLA\": 9.50,\n",
    "    \"TACO\": 3.00,\n",
    "    \"TORTILLA SALAD\": 8.00\n",
    "}\n",
    "\n",
    "order_total = 0.0\n",
    "try:\n",
    "    while True:\n",
    "        item = input(\"Ingrese un artículo de su pedido o escriba 'listo' para finalizar: \").strip().upper()\n",
    "          \n",
    "        if item in menu:\n",
    "            order_total += menu[item]\n",
    "        else:\n",
    "            print(\"El artículo ingresado no está en el menú. Por favor, elija un artículo válido.\")\n",
    "except EOFError:\n",
    "    print(f\"El total de la orden es: ${order_total:.2f}\")\n"
   ]
  }
 ],
 "metadata": {
  "kernelspec": {
   "display_name": "Python 3",
   "language": "python",
   "name": "python3"
  },
  "language_info": {
   "codemirror_mode": {
    "name": "ipython",
    "version": 3
   },
   "file_extension": ".py",
   "mimetype": "text/x-python",
   "name": "python",
   "nbconvert_exporter": "python",
   "pygments_lexer": "ipython3",
   "version": "3.11.4"
  },
  "orig_nbformat": 4
 },
 "nbformat": 4,
 "nbformat_minor": 2
}
