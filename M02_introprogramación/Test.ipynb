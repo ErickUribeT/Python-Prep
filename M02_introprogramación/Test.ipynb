{
 "cells": [
  {
   "cell_type": "code",
   "execution_count": 19,
   "metadata": {},
   "outputs": [
    {
     "name": "stdout",
     "output_type": "stream",
     "text": [
      "Hello Madafackas jiji xD\n",
      "0\n",
      "1\n",
      "2\n",
      "3\n",
      "4\n",
      "5\n",
      "6\n",
      "7\n",
      "8\n",
      "9\n",
      "10\n",
      "11\n",
      "12\n",
      "13\n",
      "14\n",
      "15\n",
      "16\n",
      "17\n",
      "18\n",
      "19\n",
      "20\n"
     ]
    }
   ],
   "source": [
    "print(\"Hello Madafackas jiji xD\")\n",
    "a = 0\n",
    "while a <= 20:\n",
    "    print(a)\n",
    "    a +=1"
   ]
  },
  {
   "cell_type": "code",
   "execution_count": 3,
   "metadata": {},
   "outputs": [
    {
     "name": "stdout",
     "output_type": "stream",
     "text": [
      "8 Es divisible entre 4 ? True\n"
     ]
    }
   ],
   "source": [
    "num1=int(input(\"Ingrese número 1: \"))\n",
    "num2=int(input(\"Ingrese número 2: \"))\n",
    "residuo=num1%num2\n",
    "condicion=residuo==0\n",
    "print(num1, \"Es divisible entre\", num2,\"?\", condicion)"
   ]
  },
  {
   "cell_type": "code",
   "execution_count": 2,
   "metadata": {},
   "outputs": [
    {
     "name": "stdout",
     "output_type": "stream",
     "text": [
      "['rojo,blanco', 'blanco']\n"
     ]
    }
   ],
   "source": [
    "mi_lista=[\"rojo,blanco\"]\n",
    "mi_lista.append(\"blanco\")\n",
    "print(mi_lista)"
   ]
  },
  {
   "cell_type": "code",
   "execution_count": 2,
   "metadata": {},
   "outputs": [
    {
     "name": "stdout",
     "output_type": "stream",
     "text": [
      "(13.66+10j)\n"
     ]
    }
   ],
   "source": [
    "num1=5+5j\n",
    "num2=num1+3.66\n",
    "print(num1+num2)"
   ]
  },
  {
   "cell_type": "code",
   "execution_count": 9,
   "metadata": {},
   "outputs": [],
   "source": [
    "num=\"8\"\n",
    "type(num)\n",
    "o=int(num)\n",
    "#type(o)"
   ]
  },
  {
   "cell_type": "code",
   "execution_count": 11,
   "metadata": {},
   "outputs": [
    {
     "name": "stdout",
     "output_type": "stream",
     "text": [
      "2\n",
      "3\n",
      "5\n",
      "7\n",
      "11\n",
      "13\n",
      "17\n",
      "19\n",
      "23\n",
      "29\n"
     ]
    }
   ],
   "source": [
    "tope_rango=30\n",
    "primo = True\n",
    "for i in range (0,tope_rango):\n",
    "    if i>1:\n",
    "        for div in range(2, i):\n",
    "            if (i % div == 0):\n",
    "                primo = False\n",
    "        if (primo):\n",
    "            print(i)\n",
    "        else:\n",
    "            primo = True\n"
   ]
  },
  {
   "cell_type": "code",
   "execution_count": 16,
   "metadata": {},
   "outputs": [
    {
     "name": "stdout",
     "output_type": "stream",
     "text": [
      "2\n",
      "3\n",
      "5\n",
      "7\n",
      "11\n",
      "13\n",
      "17\n",
      "19\n",
      "23\n",
      "29\n"
     ]
    }
   ],
   "source": [
    "tope_rango=30\n",
    "n = 0\n",
    "primo = True\n",
    "while(n<2):\n",
    "    n+=1\n",
    "while (n < tope_rango):\n",
    "    for div in range(2, n):\n",
    "        if (n % div == 0):\n",
    "            primo = False\n",
    "    if (primo):\n",
    "        print(n)\n",
    "    else:\n",
    "        primo = True\n",
    "    n += 1"
   ]
  },
  {
   "cell_type": "code",
   "execution_count": 5,
   "metadata": {},
   "outputs": [
    {
     "name": "stdout",
     "output_type": "stream",
     "text": [
      "['Rojo', 'Azul', 'Amarillo', 'Naranja', 'Violeta', 'Verde']\n",
      "Azul\n",
      "['Amarillo', 'Naranja', 'Violeta']\n",
      "['Amarillo', 'Naranja', 'Violeta', 'Verde']\n",
      "['negro', 'Rojo', 'Azul', 'Amarillo', 'Naranja', 'Violeta', 'Verde', 'gris']\n",
      "['negro', 'Rojo', 'Azul', 'Amarillo', 'Naranja', 'Violeta', 'Verde', 'gris', 'Marrón', 'Fucsia', 'rosado']\n",
      "9\n",
      "['Rojo', 'Azul', 'Amarillo', 'Naranja', 'Violeta', 'Verde', 'gris', 'Marrón', 'Fucsia', 'rosado']\n"
     ]
    },
    {
     "data": {
      "text/plain": [
       "True"
      ]
     },
     "execution_count": 5,
     "metadata": {},
     "output_type": "execute_result"
    }
   ],
   "source": [
    "mi_lista = ['Rojo','Azul','Amarillo','Naranja','Violeta','Verde']\n",
    "print(mi_lista)\n",
    "type(mi_lista)\n",
    "print(mi_lista[1])\n",
    "rebanada=mi_lista[2:5]\n",
    "print(rebanada)\n",
    "print(mi_lista[2:])\n",
    "mi_lista.append(\"gris\")\n",
    "mi_lista.insert(0,\"negro\")\n",
    "print(mi_lista)\n",
    "mi_lista.extend([\"Marrón\",\"Fucsia\",\"rosado\"])\n",
    "print(mi_lista)\n",
    "print(mi_lista.index(\"Fucsia\"))\n",
    "mi_lista.remove(\"negro\")\n",
    "print(mi_lista)\n",
    "\"Amarillo\" in mi_lista\n"
   ]
  },
  {
   "cell_type": "code",
   "execution_count": 6,
   "metadata": {},
   "outputs": [
    {
     "name": "stdout",
     "output_type": "stream",
     "text": [
      "rosado\n",
      "['Rojo', 'Azul', 'Amarillo', 'Naranja', 'Violeta', 'Verde', 'gris', 'Marrón', 'Fucsia']\n",
      "['Rojo', 'Azul', 'Amarillo', 'Naranja', 'Violeta', 'Verde', 'gris', 'Marrón', 'Fucsia', 'Rojo', 'Azul', 'Amarillo', 'Naranja', 'Violeta', 'Verde', 'gris', 'Marrón', 'Fucsia', 'Rojo', 'Azul', 'Amarillo', 'Naranja', 'Violeta', 'Verde', 'gris', 'Marrón', 'Fucsia']\n",
      "[1, 2, 3, 4, 6, 8]\n",
      "['Amarillo', 'Azul', 'Fucsia', 'Marrón', 'Naranja', 'Rojo', 'Verde', 'Violeta', 'gris']\n",
      "[8, 6, 4, 3, 2, 1]\n"
     ]
    }
   ],
   "source": [
    "ultimo=mi_lista.pop()\n",
    "print(ultimo)\n",
    "print(mi_lista)\n",
    "print(mi_lista*3)\n",
    "lista= [1,4,3,6,8,2]\n",
    "lista.sort()\n",
    "print(lista)\n",
    "mi_lista.sort()\n",
    "print(mi_lista)\n",
    "lista.sort(reverse=True)\n",
    "print(lista)"
   ]
  },
  {
   "cell_type": "code",
   "execution_count": 55,
   "metadata": {},
   "outputs": [
    {
     "name": "stdout",
     "output_type": "stream",
     "text": [
      "('lunes', 'martes', 'miércoles', 'jueves', 'viernes', 'sábado', 'domingo')\n",
      "jueves\n",
      "(1, 2, 3, 4)\n",
      "3\n"
     ]
    },
    {
     "data": {
      "text/plain": [
       "1"
      ]
     },
     "execution_count": 55,
     "metadata": {},
     "output_type": "execute_result"
    }
   ],
   "source": [
    "tupla_dias= ('lunes', 'martes', 'miércoles','jueves','viernes','sábado', 'domingo')\n",
    "print(tupla_dias)\n",
    "print(tupla_dias[3])\n",
    "\n",
    "mi_tupla= (1,2,3,4)\n",
    "print(mi_tupla)\n",
    "print(mi_tupla[2])\n",
    "\n",
    "\"lunes\" in tupla_dias\n",
    "tupla_dias.count(\"lunes\")\n",
    "\n"
   ]
  },
  {
   "cell_type": "code",
   "execution_count": 57,
   "metadata": {},
   "outputs": [
    {
     "data": {
      "text/plain": [
       "str"
      ]
     },
     "execution_count": 57,
     "metadata": {},
     "output_type": "execute_result"
    }
   ],
   "source": [
    "mi_tupla_unitaria = ('Blanco',)\n",
    "type(mi_tupla_unitaria)"
   ]
  },
  {
   "cell_type": "code",
   "execution_count": 75,
   "metadata": {},
   "outputs": [
    {
     "name": "stdout",
     "output_type": "stream",
     "text": [
      "(10, 22, 'Henry')\n",
      "15\n",
      "20\n",
      "hola\n",
      "(15, 20, 'hola')\n"
     ]
    }
   ],
   "source": [
    "#Empaquetar tuplas\n",
    "x=10\n",
    "y=22\n",
    "z=\"Henry\"\n",
    "mi_tupla= x,y,z\n",
    "print(mi_tupla)\n",
    "\n",
    "#desempaquetar tuplas\n",
    "tupla=(15,20,\"hola\")\n",
    "a,b,c=tupla\n",
    "print(a)\n",
    "print(b)\n",
    "print(c)\n",
    "print(tupla)\n"
   ]
  },
  {
   "cell_type": "code",
   "execution_count": 79,
   "metadata": {},
   "outputs": [
    {
     "name": "stdout",
     "output_type": "stream",
     "text": [
      "3\n",
      "7\n",
      "9\n"
     ]
    }
   ],
   "source": [
    "#tupla_impares=(1,3,5,7,9)\n",
    "#primero = tupla_impares[1]\n",
    "#cuarto = tupla_impares[3]\n",
    "#quinto = tupla_impares[4]\n",
    "#print(primero)\n",
    "#print(cuarto)\n",
    "#print(quinto)"
   ]
  },
  {
   "cell_type": "code",
   "execution_count": 5,
   "metadata": {},
   "outputs": [
    {
     "name": "stdout",
     "output_type": "stream",
     "text": [
      "7\n",
      "9\n"
     ]
    }
   ],
   "source": [
    "tupla_impares=(1,3,5,7,9)\n",
    "_,_,_,cuarto,quinto=tupla_impares\n",
    "print(cuarto)\n",
    "print(quinto)\n"
   ]
  },
  {
   "cell_type": "code",
   "execution_count": 10,
   "metadata": {},
   "outputs": [
    {
     "data": {
      "text/plain": [
       "list"
      ]
     },
     "execution_count": 10,
     "metadata": {},
     "output_type": "execute_result"
    }
   ],
   "source": [
    "type(tupla_impares)\n",
    "lista_impares=list(tupla_impares)\n",
    "type(lista_impares) "
   ]
  },
  {
   "cell_type": "code",
   "execution_count": 1,
   "metadata": {},
   "outputs": [
    {
     "name": "stdout",
     "output_type": "stream",
     "text": [
      "5\n"
     ]
    }
   ],
   "source": [
    "x=5\n",
    "print(x)"
   ]
  }
 ],
 "metadata": {
  "kernelspec": {
   "display_name": "Python 3",
   "language": "python",
   "name": "python3"
  },
  "language_info": {
   "codemirror_mode": {
    "name": "ipython",
    "version": 3
   },
   "file_extension": ".py",
   "mimetype": "text/x-python",
   "name": "python",
   "nbconvert_exporter": "python",
   "pygments_lexer": "ipython3",
   "version": "3.11.4"
  },
  "orig_nbformat": 4
 },
 "nbformat": 4,
 "nbformat_minor": 2
}
